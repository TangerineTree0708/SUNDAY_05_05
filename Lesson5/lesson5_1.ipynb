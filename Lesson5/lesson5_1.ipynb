{
 "cells": [
  {
   "cell_type": "code",
   "execution_count": 5,
   "metadata": {},
   "outputs": [
    {
     "name": "stdout",
     "output_type": "stream",
     "text": [
      "your name:tree\n",
      "your BMI:21.14\n"
     ]
    }
   ],
   "source": [
    "name = input(\"enteer your name\")\n",
    "height = float(input(\"enter your Cm\"))\n",
    "weight = float(input(\"enter your Kg\"))\n",
    "\n",
    "BMI = float(weight/(height/100)**2)\n",
    "\n",
    "print(f\"your name:{name}\")\n",
    "print(f\"your BMI:{round(BMI,ndigits = 2)}\")"
   ]
  },
  {
   "cell_type": "code",
   "execution_count": 9,
   "metadata": {},
   "outputs": [
    {
     "ename": "ValueError",
     "evalue": "invalid literal for int() with base 10: '51d'",
     "output_type": "error",
     "traceback": [
      "\u001b[0;31m---------------------------------------------------------------------------\u001b[0m",
      "\u001b[0;31mValueError\u001b[0m                                Traceback (most recent call last)",
      "Cell \u001b[0;32mIn[9], line 1\u001b[0m\n\u001b[0;32m----> 1\u001b[0m money \u001b[38;5;241m=\u001b[39m \u001b[38;5;28;43mint\u001b[39;49m\u001b[43m(\u001b[49m\u001b[38;5;28;43minput\u001b[39;49m\u001b[43m(\u001b[49m\u001b[38;5;124;43m\"\u001b[39;49m\u001b[38;5;124;43menter\u001b[39;49m\u001b[38;5;124;43m\"\u001b[39;49m\u001b[43m)\u001b[49m\u001b[43m)\u001b[49m;\n\u001b[1;32m      2\u001b[0m \u001b[38;5;28mprint\u001b[39m(money)\n",
      "\u001b[0;31mValueError\u001b[0m: invalid literal for int() with base 10: '51d'"
     ]
    }
   ],
   "source": [
    "try:\n",
    "    money = int(input(\"enter\"));\n",
    "    print(money)\n",
    "except ValueError:\n",
    "    print(\"Wrong\")\n",
    "except Exception:\n",
    "    print(\"不明錯誤\")\n",
    "print(\"程式結束\")"
   ]
  },
  {
   "cell_type": "code",
   "execution_count": 10,
   "metadata": {},
   "outputs": [
    {
     "name": "stdout",
     "output_type": "stream",
     "text": [
      "Wrong\n",
      "程式結束\n"
     ]
    }
   ],
   "source": [
    "try:\n",
    "    scores = int(input(\"輸入分數 \"))\n",
    "    if scores>300 or scores<0\n",
    "        raise Exception(\"不在範圍\")\n",
    "    is_add = input(\"是否符合加分條件？(y，n)\")\n",
    "    if is_add == \"y\":\n",
    "        scores *= 1.05;\n",
    "        if scores>300:\n",
    "            scores = 300\n",
    "\n",
    "    print(f\"學生分數:{round(scores , ndigits=0)}\")\n",
    "except ValueError:\n",
    "    print(\"Wrong\")\n",
    "except Exception:\n",
    "    print(\"不明錯誤\")\n",
    "except Exception as error:\n",
    "    print(error)\n",
    "print(\"程式結束\")"
   ]
  }
 ],
 "metadata": {
  "kernelspec": {
   "display_name": "Python 3",
   "language": "python",
   "name": "python3"
  },
  "language_info": {
   "codemirror_mode": {
    "name": "ipython",
    "version": 3
   },
   "file_extension": ".py",
   "mimetype": "text/x-python",
   "name": "python",
   "nbconvert_exporter": "python",
   "pygments_lexer": "ipython3",
   "version": "3.10.14"
  }
 },
 "nbformat": 4,
 "nbformat_minor": 2
}
