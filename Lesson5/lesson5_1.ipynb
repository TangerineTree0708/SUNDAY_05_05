{
 "cells": [
  {
   "cell_type": "code",
   "execution_count": 5,
   "metadata": {},
   "outputs": [
    {
     "name": "stdout",
     "output_type": "stream",
     "text": [
      "your name:tree\n",
      "your BMI:21.14\n"
     ]
    }
   ],
   "source": [
    "name = input(\"enteer your name\")\n",
    "height = float(input(\"enter your Cm\"))\n",
    "weight = float(input(\"enter your Kg\"))\n",
    "\n",
    "BMI = float(weight/(height/100)**2)\n",
    "\n",
    "print(f\"your name:{name}\")\n",
    "print(f\"your BMI:{round(BMI,ndigits = 2)}\")"
   ]
  }
 ],
 "metadata": {
  "kernelspec": {
   "display_name": "Python 3",
   "language": "python",
   "name": "python3"
  },
  "language_info": {
   "codemirror_mode": {
    "name": "ipython",
    "version": 3
   },
   "file_extension": ".py",
   "mimetype": "text/x-python",
   "name": "python",
   "nbconvert_exporter": "python",
   "pygments_lexer": "ipython3",
   "version": "3.10.14"
  }
 },
 "nbformat": 4,
 "nbformat_minor": 2
}
