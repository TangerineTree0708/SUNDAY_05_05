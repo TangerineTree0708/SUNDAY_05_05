{
 "cells": [
  {
   "cell_type": "code",
   "execution_count": 1,
   "metadata": {},
   "outputs": [
    {
     "name": "stdout",
     "output_type": "stream",
     "text": [
      "10.0+20.0+50.0=80.0\n"
     ]
    }
   ],
   "source": [
    "toatl = 0\n",
    "value1 = float(input(\"enter first : \"))\n",
    "toatl += value1\n",
    "\n",
    "value2 = float(input(\"enter Sec : \"))\n",
    "toatl += value2\n",
    "\n",
    "value3 = float(input(\"enter Third : \"))\n",
    "toatl += value3\n",
    "\n",
    "print(f\"{value1}+{value2}+{value3}={round(toatl,ndigits=2)}\")"
   ]
  }
 ],
 "metadata": {
  "kernelspec": {
   "display_name": "Python 3",
   "language": "python",
   "name": "python3"
  },
  "language_info": {
   "codemirror_mode": {
    "name": "ipython",
    "version": 3
   },
   "file_extension": ".py",
   "mimetype": "text/x-python",
   "name": "python",
   "nbconvert_exporter": "python",
   "pygments_lexer": "ipython3",
   "version": "3.10.13"
  }
 },
 "nbformat": 4,
 "nbformat_minor": 2
}
