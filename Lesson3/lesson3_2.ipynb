{
 "cells": [
  {
   "cell_type": "code",
   "execution_count": 2,
   "metadata": {},
   "outputs": [
    {
     "name": "stdout",
     "output_type": "stream",
     "text": [
      "半徑為50.5的圓，面積為8011.85\n"
     ]
    }
   ],
   "source": [
    "import math\n",
    "\n",
    "r = float (input(\"enter radius :\"))\n",
    "\n",
    "area = math.pi * r **2\n",
    "\n",
    "print (f\"半徑為{r}的圓，面積為{round(area ,ndigits=2)}\")"
   ]
  },
  {
   "cell_type": "code",
   "execution_count": 3,
   "metadata": {},
   "outputs": [
    {
     "name": "stdout",
     "output_type": "stream",
     "text": [
      "對邊25, 斜邊50, 角度30.0\n"
     ]
    }
   ],
   "source": [
    "import math\n",
    "side =25\n",
    "another_side = 50\n",
    "\n",
    "radian = math.asin(side/another_side)\n",
    "degree = math.degrees(radian)\n",
    "\n",
    "print(f\"對邊{side}, 斜邊{another_side}, 角度{round(degree , ndigits=2)}\")"
   ]
  }
 ],
 "metadata": {
  "kernelspec": {
   "display_name": "Python 3",
   "language": "python",
   "name": "python3"
  },
  "language_info": {
   "codemirror_mode": {
    "name": "ipython",
    "version": 3
   },
   "file_extension": ".py",
   "mimetype": "text/x-python",
   "name": "python",
   "nbconvert_exporter": "python",
   "pygments_lexer": "ipython3",
   "version": "3.10.13"
  }
 },
 "nbformat": 4,
 "nbformat_minor": 2
}
